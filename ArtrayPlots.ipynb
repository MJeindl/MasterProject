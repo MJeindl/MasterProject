{
 "cells": [
  {
   "cell_type": "code",
   "execution_count": null,
   "metadata": {},
   "outputs": [],
   "source": [
    "import numpy as np\n",
    "import sys \n",
    "sys.path.insert(1, r\"C:\\Users\\M\\Documents\\phdmatlab\\sqib-pmma-probe-wavelength\\UV_Setup\\new_parallel_pol_pump653nm\")\n",
    "from ArtrayAnalysis import ArtFit\n",
    "\n",
    "#newest calib\n",
    "#2024.01.15\n",
    "CalibNewUnopt = r\"C:\\Users\\M\\Documents\\phdmatlab\\sqib-pmma-probe-wavelength\\UV_Setup\\new_parallel_pol_pump653nm\\ArtrayCalib\\CameraData\\Artray\\2024.01.15\\Artray653nmCalib.txt\"\n",
    "CalibNewOptimized = r\"C:\\Users\\M\\Documents\\phdmatlab\\sqib-pmma-probe-wavelength\\UV_Setup\\new_parallel_pol_pump653nm\\ArtrayCalib\\CameraData\\Artray\\2024.01.15\\Artray653nmCalibOptimized.txt\"\n",
    "JSONnew = r\"C:\\Users\\M\\Documents\\phdmatlab\\sqib-pmma-probe-wavelength\\UV_Setup\\new_parallel_pol_pump653nm\\JSON_ArtrayBG_2024.01.16.json\"\n",
    "\n",
    "artUnopt = ArtFit(JSONnew, CalibNewUnopt, 1)\n",
    "artOpt = ArtFit(JSONnew,CalibNewOptimized, 1)\n",
    "\n",
    "#october not great\n",
    "CalibOctober = r\"C:\\Users\\M\\Documents\\phdmatlab\\sqib-pmma-probe-wavelength\\UV_Setup\\new_parallel_pol_pump653nm\\ArtrayCalib\\CameraData\\Artray\\2023.10.30\\Pump653Calib.txt\"\n",
    "JSONoct = r\"C:\\Users\\M\\Documents\\phdmatlab\\sqib-pmma-probe-wavelength\\UV_Setup\\new_parallel_pol_pump653nm\\JSON_ArtrayBG_2023.10.30.json\"\n",
    "\n",
    "artOct = ArtFit(JSONoct, CalibOctober, 1)"
   ]
  },
  {
   "cell_type": "markdown",
   "metadata": {},
   "source": [
    "### Mirror consistency"
   ]
  },
  {
   "cell_type": "code",
   "execution_count": null,
   "metadata": {},
   "outputs": [],
   "source": [
    "import numpy as np\n",
    "import sys \n",
    "sys.path.insert(1, r\"C:\\Users\\M\\Documents\\phdmatlab\\sqib-pmma-probe-wavelength\\UV_Setup\\new_parallel_pol_pump653nm\")\n",
    "from ArtrayAnalysis import ArtFit\n",
    "from matplotlib import pyplot as plt\n",
    "import plotHelperLatex\n",
    "plotHelperLatex.setMatplotSettings()\n",
    "#\"C:\\Users\\M\\Documents\\phdmatlab\\sqib-pmma-probe-wavelength\\UV_Setup\\new_parallel_pol_pump653nm\\ArtrayCalib\\CameraData\\Artray\\14.07.2023\\MirrorConsistencyTest\\01.tif\"\n",
    "directory = r\"C:\\Users\\M\\Documents\\phdmatlab\\sqib-pmma-probe-wavelength\\UV_Setup\\new_parallel_pol_pump653nm\\ArtrayCalib\\CameraData\\Artray\\14.07.2023\\MirrorConsistencyTest\"+\"\\\\\"[0]\n",
    "fig, ax = plt.subplots(1,1, figsize=plotHelperLatex.figSizer(3,2/3), dpi=288)\n",
    "filestring = r\"{0:02d}.tif\"\n",
    "for ind in range(10):\n",
    "    map, size = ArtFit.loadTIFF(directory+filestring.format(ind+1))\n",
    "    x = np.arange(0,size[0], 1)\n",
    "    y = np.arange(0,size[1], 1)\n",
    "    xAr, yAr = np.meshgrid(x,y)\n",
    "    ax.contour(xAr, yAr, map, levels=3)\n",
    "    \n",
    "ax.set_xlim((0, size[0]))\n",
    "ax.set_ylim((0, size[1]))\n",
    "ax.axis('equal')\n",
    "ax.set_xlabel('px / 1')\n",
    "ax.set_ylabel('px / 1')\n",
    "#plt.show()\n",
    "\n",
    "#background\n",
    "#second part\n",
    "directory = r\"C:\\Users\\M\\Documents\\phdmatlab\\sqib-pmma-probe-wavelength\\UV_Setup\\new_parallel_pol_pump653nm\\ArtrayCalib\\CameraData\\Artray\\14.07.2023\\MirrorConsistencyTest\"+\"\\\\\"[0]\n",
    "fig2, ax2= plt.subplots(1,1, figsize=plotHelperLatex.figSizer(3,2/3), dpi=288)\n",
    "filestring = r\"{0:02d}.txt\"\n",
    "for ind in range(4):\n",
    "    map = ArtFit.convertByteToInt(ArtFit.loadByteArr(directory+filestring.format(ind+11)), 200, 300)\n",
    "    x = np.arange(0,size[0], 1)\n",
    "    y = np.arange(0,size[1], 1)\n",
    "    xAr, yAr = np.meshgrid(x,y)\n",
    "    ax.contour(xAr, yAr, map, levels=3)\n",
    "    \n",
    "ax2.set_xlim((0, size[0]))\n",
    "ax2.set_ylim((0, size[1]))\n",
    "ax2.axis('equal')\n",
    "ax2.set_xlabel('px / 1')\n",
    "ax2.set_ylabel('px / 1')\n"
   ]
  }
 ],
 "metadata": {
  "kernelspec": {
   "display_name": "Python 3",
   "language": "python",
   "name": "python3"
  },
  "language_info": {
   "codemirror_mode": {
    "name": "ipython",
    "version": 3
   },
   "file_extension": ".py",
   "mimetype": "text/x-python",
   "name": "python",
   "nbconvert_exporter": "python",
   "pygments_lexer": "ipython3",
   "version": "3.12.1"
  }
 },
 "nbformat": 4,
 "nbformat_minor": 2
}
