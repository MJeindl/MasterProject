{
 "cells": [
  {
   "cell_type": "markdown",
   "metadata": {},
   "source": [
    "# manuela CW measurements"
   ]
  },
  {
   "cell_type": "code",
   "execution_count": null,
   "metadata": {},
   "outputs": [],
   "source": [
    "import numpy as np\n",
    "from matplotlib import pyplot as plt\n",
    "import plotHelperLatex\n",
    "plotHelperLatex.setMatplotSettings()\n",
    "from scipy import constants as const\n",
    "\n",
    "def wavToEnergy(lamb):\n",
    "    #Energy in eV, lamb in nm\n",
    "    return const.h*const.c/lamb*1e9/const.elementary_charge\n",
    "\n",
    "def energyToWav(E):\n",
    "    #Energy in eV, lamb in nm\n",
    "    return const.h*const.c/E*1e9/const.elementary_charge\n",
    "\n",
    "allSpectra = np.genfromtxt(r\"C:\\Users\\M\\Documents\\Books\\masterprojectinformation\\images\\2021-07-05ManuelaSQIB.txt\", skip_header=2)\n",
    "percent = [10, 4, 2, 1, 0.5]\n",
    "ind_percent = [1,2,3,4,5]\n",
    "wavelengths = allSpectra[:,0]\n",
    "boolArr = wavelengths < 1000\n",
    "wavelengths = wavelengths[boolArr]\n",
    "relTransmissionMain = allSpectra[boolArr,4]\n",
    "\n",
    "fig, ax = plt.subplots(1,1, figsize=plotHelperLatex.figSizer(1,3), dpi = 288)\n",
    "for ind in [0,1,3]:\n",
    "    ax.plot(wavelengths, allSpectra[boolArr,ind+1]*100, label = (r\"%.1f wt\" %percent[ind] + r\"\\%\"))\n",
    "\n",
    "secax = ax.secondary_xaxis('top', functions=(wavToEnergy, energyToWav))\n",
    "secax.set_xticks(np.round(wavToEnergy(np.array([440, 500, 653])), 2))\n",
    "secax.set_xlabel(r\"$\\mathrm{E \\ / \\ eV}$\")\n",
    "\n",
    "ax.set_yscale('log')\n",
    "ax.set_ylabel('transmission / \\%')\n",
    "ax.set_xlabel('wavelength / nm')\n",
    "ax.legend(loc = \"lower right\")\n",
    "plt.show()"
   ]
  },
  {
   "cell_type": "markdown",
   "metadata": {},
   "source": [
    "### SQIB (manuela) vs Anthracene"
   ]
  },
  {
   "cell_type": "code",
   "execution_count": null,
   "metadata": {},
   "outputs": [],
   "source": [
    "import numpy as np\n",
    "from matplotlib import pyplot as plt\n",
    "import plotHelperLatex\n",
    "plotHelperLatex.setMatplotSettings()\n",
    "\n",
    "allSpectra = np.genfromtxt(r\"C:\\Users\\M\\Documents\\Books\\masterprojectinformation\\images\\2021-07-05ManuelaSQIB.txt\", skip_header=2, usecols=(0,4))\n",
    "\n",
    "wavelengths = allSpectra[:,0]\n",
    "boolArr = wavelengths < 1000\n",
    "wavelengths = wavelengths[boolArr]\n",
    "relTransmission = allSpectra[boolArr,1]\n",
    "\n",
    "fig, ax = plt.subplots(1,1, figsize=plotHelperLatex.figSizer(1,3), dpi = 288)\n",
    "ax.plot(wavelengths, relTransmission*100)\n",
    "ax.set_yscale('log')\n",
    "ax.set_ylabel('transmission / \\%')\n",
    "ax.set_xlabel('wavelength / nm')\n",
    "plt.show()"
   ]
  },
  {
   "cell_type": "markdown",
   "metadata": {},
   "source": [
    "### Red LEDs"
   ]
  },
  {
   "cell_type": "code",
   "execution_count": null,
   "metadata": {},
   "outputs": [],
   "source": [
    "import numpy as np\n",
    "from matplotlib import pyplot as plt\n",
    "import plotHelperLatex\n",
    "plotHelperLatex.setMatplotSettings()\n",
    "\n",
    "def wavToEnergy(lamb):\n",
    "    #Energy in eV, lamb in nm\n",
    "    return const.h*const.c/lamb*1e9/const.elementary_charge\n",
    "\n",
    "def energyToWav(E):\n",
    "    #Energy in eV, lamb in nm\n",
    "    return const.h*const.c/E*1e9/const.elementary_charge\n",
    "\n",
    "allSpectra = np.genfromtxt(r\"C:\\Users\\M\\Documents\\Books\\masterprojectinformation\\images\\SpectrumRedLEDsforCalibration.txt\", skip_header=17, skip_footer=1)\n",
    "\n",
    "wavelengths = allSpectra[:,0]\n",
    "boolArr = (wavelengths > 500) & (wavelengths < 800)\n",
    "emission = allSpectra[:,1]\n",
    "\n",
    "fig, ax = plt.subplots(1,1, figsize=plotHelperLatex.figSizer(2,2.5), dpi = 288)\n",
    "ax.plot(wavelengths[boolArr], emission[boolArr]/np.max(emission))\n",
    "ax.set_ylabel('emission / a.u.')\n",
    "ax.set_xlabel('wavelength / nm')\n",
    "ax.set_xticks([500,600,653,700,800],[500,600,653,700,800])\n",
    "\n",
    "secax = ax.secondary_xaxis('top', functions=(wavToEnergy, energyToWav))\n",
    "secax.set_xticks(np.round(wavToEnergy(np.array([653])), 2))\n",
    "secax.set_xlabel(r\"$\\mathrm{E \\ / \\ eV}$\")\n",
    "\n",
    "plt.show()"
   ]
  }
 ],
 "metadata": {
  "kernelspec": {
   "display_name": "Python 3",
   "language": "python",
   "name": "python3"
  },
  "language_info": {
   "codemirror_mode": {
    "name": "ipython",
    "version": 3
   },
   "file_extension": ".py",
   "mimetype": "text/x-python",
   "name": "python",
   "nbconvert_exporter": "python",
   "pygments_lexer": "ipython3",
   "version": "3.12.1"
  }
 },
 "nbformat": 4,
 "nbformat_minor": 2
}
